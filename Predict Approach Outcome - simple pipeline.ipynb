{
 "metadata": {
  "name": "",
  "signature": "sha256:3e91514ba1823475a265a0d730468d769e3fdf9b48fdfb9093daf035c5dbfa1e"
 },
 "nbformat": 3,
 "nbformat_minor": 0,
 "worksheets": [
  {
   "cells": [
    {
     "cell_type": "code",
     "collapsed": false,
     "input": [
      "import pandas as pd\n",
      "import numpy as np\n",
      "\n",
      "# data ingest -- this is assiming the data comes out as a csv file\n",
      "# data = pd.read_csv('/Users/ike/Documents/smartapps/apps/extract/approach_outcomes.csv', low_memory=False)\n",
      "### Use Approach Outcome Pipeline\n",
      "data = pd.read_csv('/Users/ike/Documents/smartapps/test_approach_outcomes.csv', low_memory=False)\n",
      "\n",
      "\n",
      "# remove unwanted outcomes \n",
      "# This could essentiall be done using some sort of qurt functionality from the extaction tool\n",
      "data = data[ data.predictor != 'Sent']\n",
      "data = data[ data.predictor != 'Processing' ]\n",
      "data = data[ data.predictor != 'Scheduled' ]\n",
      "\n",
      "\n",
      "#define categorical and numeric variables\n",
      "feature_data = data[['predictor', 'business_commercial_density_analysis_downtown_category']]\n",
      "\n",
      "cat_feature_data = data[['product_type']]\n",
      "\n"
     ],
     "language": "python",
     "metadata": {},
     "outputs": [],
     "prompt_number": 20
    },
    {
     "cell_type": "code",
     "collapsed": false,
     "input": [
      "print type(cat_feature_data)\n",
      "print cat_feature_data.head()\n",
      "print type(feature_data)\n",
      "print feature_data.head()"
     ],
     "language": "python",
     "metadata": {},
     "outputs": [
      {
       "output_type": "stream",
       "stream": "stdout",
       "text": [
        "<class 'pandas.core.frame.DataFrame'>\n",
        "            product_type\n",
        "0       BusinessListings\n",
        "1   ReputationManagement\n",
        "2  SearchEngineMarketing\n",
        "3  SearchEngineMarketing\n",
        "4  SearchEngineMarketing\n",
        "<class 'pandas.core.frame.DataFrame'>\n",
        "   predictor  business_commercial_density_analysis_downtown_category\n",
        "0  Converted                                                  0     \n",
        "1  Converted                                                  0     \n",
        "2        NaN                                                  0     \n",
        "3        NaN                                                  0     \n",
        "4        NaN                                                  0     \n"
       ]
      }
     ],
     "prompt_number": 21
    },
    {
     "cell_type": "code",
     "collapsed": false,
     "input": [
      "\n",
      "# remap target feature\n",
      "target_map = dict()\n",
      "target_map['Email_Opened'] = 6\n",
      "target_map['Bounced'] = 11\n",
      "target_map['Error_Failed'] = 4\n",
      "target_map['Unsubscribed'] = 8\n",
      "target_map['Converted'] = 3\n",
      "target_map['Engaged'] = 5\n",
      "\n",
      "feature_data['predictor'] = feature_data['predictor'].replace(target_map)\n",
      "\n"
     ],
     "language": "python",
     "metadata": {},
     "outputs": [],
     "prompt_number": 22
    },
    {
     "cell_type": "code",
     "collapsed": false,
     "input": [
      "print type(feature_data)\n",
      "print feature_data.head()"
     ],
     "language": "python",
     "metadata": {},
     "outputs": [
      {
       "output_type": "stream",
       "stream": "stdout",
       "text": [
        "<class 'pandas.core.frame.DataFrame'>\n",
        "   predictor  business_commercial_density_analysis_downtown_category\n",
        "0          3                                                  0     \n",
        "1          3                                                  0     \n",
        "2        NaN                                                  0     \n",
        "3        NaN                                                  0     \n",
        "4        NaN                                                  0     \n"
       ]
      }
     ],
     "prompt_number": 23
    },
    {
     "cell_type": "code",
     "collapsed": false,
     "input": [
      "for i in cat_feature_data.columns:\n",
      "    #print i\n",
      "    temp_df = pd.get_dummies(cat_feature_data[str(i)])\n",
      "    feature_data = feature_data.join(temp_df, rsuffix=i)\n",
      "    temp_df = pd.DataFrame()  # clear dataframe\n",
      "    \n",
      "    \n",
      "# impute categorical variables \n",
      "from sklearn.preprocessing import Imputer\n",
      "from sklearn.pipeline import Pipeline\n",
      "\n",
      "# define impute pipeline\n",
      "imputer_nan = Imputer(strategy='most_frequent', missing_values='NaN', axis=0)\n",
      "imputer_null = Imputer(strategy='median', missing_values=0, axis=0)\n",
      "\n",
      "\n",
      "impute_pipeline = Pipeline([\n",
      "    ('imp_null', imputer_null),\n",
      "    ('imp_nan', imputer_nan),\n",
      "])\n",
      "\n",
      "impute_pipeline_label = Pipeline([\n",
      "    ('imp_null', imputer_null),\n",
      "])"
     ],
     "language": "python",
     "metadata": {},
     "outputs": [],
     "prompt_number": 15
    },
    {
     "cell_type": "code",
     "collapsed": false,
     "input": [
      "print type(feature_data)\n",
      "print feature_data.head()"
     ],
     "language": "python",
     "metadata": {},
     "outputs": [
      {
       "output_type": "stream",
       "stream": "stdout",
       "text": [
        "<class 'pandas.core.frame.DataFrame'>\n",
        "   predictor  business_commercial_density_analysis_downtown_category  \\\n",
        "0          3                                                  0        \n",
        "1          3                                                  0        \n",
        "2        NaN                                                  0        \n",
        "3        NaN                                                  0        \n",
        "4        NaN                                                  0        \n",
        "\n",
        "   BusinessListings  CardLinkedOffer  CardProcessingServices  ClaimYourPage  \\\n",
        "0                 1                0                       0              0   \n",
        "1                 0                0                       0              0   \n",
        "2                 0                0                       0              0   \n",
        "3                 0                0                       0              0   \n",
        "4                 0                0                       0              0   \n",
        "\n",
        "   DigitalCoupon  DigitalDisplayAds  Insurance  LoyaltyProgram  \\\n",
        "0              0                  0          0               0   \n",
        "1              0                  0          0               0   \n",
        "2              0                  0          0               0   \n",
        "3              0                  0          0               0   \n",
        "4              0                  0          0               0   \n",
        "\n",
        "   ReputationManagement  SEOService  SearchEngineMarketing  \\\n",
        "0                     0           0                      0   \n",
        "1                     1           0                      0   \n",
        "2                     0           0                      1   \n",
        "3                     0           0                      1   \n",
        "4                     0           0                      1   \n",
        "\n",
        "   SocialMediaManagement  \n",
        "0                      0  \n",
        "1                      0  \n",
        "2                      0  \n",
        "3                      0  \n",
        "4                      0  \n"
       ]
      }
     ],
     "prompt_number": 16
    },
    {
     "cell_type": "code",
     "collapsed": false,
     "input": [
      "# get labels\n",
      "label_data = feature_data[['predictor']]\n",
      " \n",
      "# drop target feature\n",
      "feature_data.drop('predictor', axis = 1, inplace = True)\n",
      " \n",
      "feature_data.reset_index(drop=True, inplace=True)\n",
      "label_data.reset_index(drop=True, inplace=True)\n",
      " \n",
      "feature_data_impute = impute_pipeline.fit_transform(feature_data)\n",
      "label_data_impute = impute_pipeline_label.fit_transform(label_data)\n",
      " "
     ],
     "language": "python",
     "metadata": {},
     "outputs": [],
     "prompt_number": 17
    },
    {
     "cell_type": "code",
     "collapsed": false,
     "input": [
      "print type(feature_data_impute)\n",
      "print feature_data_impute.shape\n",
      "\n",
      "print type(label_data_impute)\n",
      "print label_data_impute.shape\n"
     ],
     "language": "python",
     "metadata": {},
     "outputs": [
      {
       "output_type": "stream",
       "stream": "stdout",
       "text": [
        "<type 'numpy.ndarray'>\n",
        "(70699, 13)\n",
        "<type 'numpy.ndarray'>\n",
        "(70699, 1)\n"
       ]
      }
     ],
     "prompt_number": 19
    },
    {
     "cell_type": "code",
     "collapsed": false,
     "input": [
      "\n",
      "# split train and test data\n",
      "# Once spilt, the Test and Train data are sent to next stage  - Stage 2\n",
      "from sklearn.cross_validation import train_test_split\n",
      "feature_train, feature_test, label_train, label_test = train_test_split(feature_data_impute, label_data_impute, test_size=0.3, random_state=42)\n",
      " \n",
      "label_test = label_test.ravel()\n",
      "label_train = label_train.ravel()"
     ],
     "language": "python",
     "metadata": {},
     "outputs": [],
     "prompt_number": 13
    },
    {
     "cell_type": "code",
     "collapsed": false,
     "input": [
      "print type(feature_train)\n",
      "print feature_train.shape\n",
      "print type(feature_test)\n",
      "print feature_test.shape\n",
      "print type(label_train)\n",
      "print label_train.shape\n",
      "print type(label_test)\n",
      "print label_test.shape"
     ],
     "language": "python",
     "metadata": {},
     "outputs": [
      {
       "output_type": "stream",
       "stream": "stdout",
       "text": [
        "<type 'numpy.ndarray'>\n",
        "(49489, 13)\n",
        "<type 'numpy.ndarray'>\n",
        "(21210, 13)\n",
        "<type 'numpy.ndarray'>\n",
        "(49489,)\n",
        "<type 'numpy.ndarray'>\n",
        "(21210,)\n"
       ]
      }
     ],
     "prompt_number": 14
    },
    {
     "cell_type": "code",
     "collapsed": false,
     "input": [],
     "language": "python",
     "metadata": {},
     "outputs": []
    }
   ],
   "metadata": {}
  }
 ]
}