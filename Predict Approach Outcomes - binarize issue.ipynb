{
 "metadata": {
  "name": "",
  "signature": "sha256:2721d0665027b953ee980747cd7c1a830f26c25987dad1baf37e0b12af010f80"
 },
 "nbformat": 3,
 "nbformat_minor": 0,
 "worksheets": [
  {
   "cells": [
    {
     "cell_type": "code",
     "collapsed": false,
     "input": [
      "import pandas as pd\n",
      "import numpy as np\n",
      "import matplotlib.pyplot as plt"
     ],
     "language": "python",
     "metadata": {},
     "outputs": [],
     "prompt_number": 1
    },
    {
     "cell_type": "code",
     "collapsed": false,
     "input": [
      "data = pd.read_csv('/Users/ike/Documents/smartapps/test_approach_outcomes.csv', low_memory=False)"
     ],
     "language": "python",
     "metadata": {},
     "outputs": [],
     "prompt_number": 2
    },
    {
     "cell_type": "code",
     "collapsed": false,
     "input": [
      "# remove unwanted classes\n",
      "data = data[ data.predictor != 'Sent']\n",
      "data = data[ data.predictor != 'Processing' ]\n",
      "data = data[ data.predictor != 'Scheduled' ]\n",
      "len(data)"
     ],
     "language": "python",
     "metadata": {},
     "outputs": [
      {
       "metadata": {},
       "output_type": "pyout",
       "prompt_number": 3,
       "text": [
        "70699"
       ]
      }
     ],
     "prompt_number": 3
    },
    {
     "cell_type": "code",
     "collapsed": false,
     "input": [
      "# Define categorical and numeric variables\n",
      "feature_data = data[['predictor','business_category_profit_margin','business_median_income',\n",
      "                'business_location_latitude','business_location_longitude', 'business_staff_size_raw',\n",
      "                'business_profit_margin_raw','business_social_media_presence_raw','business_commercial_density',\n",
      "                'business_social_media_popularity_raw','business_ad__competitive_analysis', 'business_competitive_analysis',\n",
      "                'business_avg_bill_per_person','business_category_range_start','business_category_range_end',\n",
      "                'business_commercial_density_analysis_downtown_all', 'business_commercial_density_analysis_downtown_parent',\n",
      "                'business_commercial_density_analysis_downtown_category', 'business_commercial_density_analysis_street_all',\n",
      "                'business_commercial_density_analysis_street_parent', 'business_commercial_density_analysis_street_category',\n",
      "                'business_commercial_density_analysis_block_all', 'business_commercial_density_analysis_block_parent',\n",
      "                'business_commercial_density_analysis_block_category', 'business_commercial_density_analysis_city_all',\n",
      "                'business_commercial_density_analysis_city_parent', 'business_commercial_density_analysis_city_category']]\n",
      "\n",
      "cat_feature_data = data[['business_location_time_zone', 'business_location_state_name','business_has_multiple_locations',\n",
      "                         'business_category_sub_category', 'business_category_top_category', 'business_has_ecommerce',\n",
      "                         'business_history_has_done_deals','business_location_city_name']]\n",
      "\n",
      "target_map = dict()\n",
      "target_map['Email_Opened'] = 6\n",
      "target_map['Bounced'] = 11\n",
      "target_map['Error_Failed'] = 4\n",
      "target_map['Unsubscribed'] = 8\n",
      "target_map['Converted'] = 3\n",
      "target_map['Engaged'] = 5\n",
      "feature_data['predictor'] = feature_data['predictor'].replace(target_map)\n"
     ],
     "language": "python",
     "metadata": {},
     "outputs": [
      {
       "output_type": "stream",
       "stream": "stderr",
       "text": [
        "-c:25: SettingWithCopyWarning: A value is trying to be set on a copy of a slice from a DataFrame.\n",
        "Try using .loc[row_index,col_indexer] = value instead\n"
       ]
      }
     ],
     "prompt_number": 4
    },
    {
     "cell_type": "heading",
     "level": 3,
     "metadata": {},
     "source": [
      "Sparse Categorical Feature Binarize"
     ]
    },
    {
     "cell_type": "code",
     "collapsed": false,
     "input": [
      "from sklearn.feature_extraction import DictVectorizer\n",
      "\n",
      "sparse_vector = DictVectorizer()\n",
      "\n",
      "# sparse categorical feature matrix - vectorized operation\n",
      "sparse_binarize = sparse_vector.fit_transform(cat_feature_data.T.to_dict().values())\n",
      "\n",
      "print type(sparse_binarize)"
     ],
     "language": "python",
     "metadata": {},
     "outputs": [
      {
       "output_type": "stream",
       "stream": "stdout",
       "text": [
        "<class 'scipy.sparse.csr.csr_matrix'>\n"
       ]
      }
     ],
     "prompt_number": 7
    },
    {
     "cell_type": "code",
     "collapsed": false,
     "input": [
      "# dense categorical feature matrix\n",
      "vec = sparse_vector.fit_transform(cat_feature_data.T.to_dict().values()).toarray()"
     ],
     "language": "python",
     "metadata": {},
     "outputs": [],
     "prompt_number": 8
    },
    {
     "cell_type": "code",
     "collapsed": false,
     "input": [
      "print vec.shape\n",
      "print vec"
     ],
     "language": "python",
     "metadata": {},
     "outputs": [
      {
       "output_type": "stream",
       "stream": "stdout",
       "text": [
        "(149974, 7399)\n",
        "[[ 0.  0.  0. ...,  0.  0.  0.]\n",
        " [ 0.  0.  0. ...,  0.  0.  0.]\n",
        " [ 0.  0.  0. ...,  0.  0.  0.]\n",
        " ..., \n",
        " [ 0.  0.  0. ...,  0.  1.  0.]\n",
        " [ 0.  0.  0. ...,  0.  1.  0.]\n",
        " [ 0.  0.  0. ...,  0.  1.  0.]]\n"
       ]
      }
     ],
     "prompt_number": 9
    },
    {
     "cell_type": "code",
     "collapsed": false,
     "input": [
      "print type(vec)"
     ],
     "language": "python",
     "metadata": {},
     "outputs": [
      {
       "output_type": "stream",
       "stream": "stdout",
       "text": [
        "<type 'numpy.ndarray'>\n"
       ]
      }
     ],
     "prompt_number": 10
    },
    {
     "cell_type": "code",
     "collapsed": false,
     "input": [
      "feature_data = feature_data.join(pd.DataFrame(vec))\n",
      "print feature_data.shape\n"
     ],
     "language": "python",
     "metadata": {},
     "outputs": [
      {
       "output_type": "stream",
       "stream": "stdout",
       "text": [
        "(149974, 7426)\n"
       ]
      }
     ],
     "prompt_number": 11
    },
    {
     "cell_type": "code",
     "collapsed": false,
     "input": [
      "import pickle\n",
      "with open('sparse_binarize.pkl', 'wb') as fp:\n",
      "    pickle.dump(sparse_binarize, fp)"
     ],
     "language": "python",
     "metadata": {},
     "outputs": [],
     "prompt_number": 12
    },
    {
     "cell_type": "heading",
     "level": 3,
     "metadata": {},
     "source": [
      "Pandas Categorical Feature Binarize"
     ]
    },
    {
     "cell_type": "code",
     "collapsed": false,
     "input": [
      "# reset index\n",
      "feature_data.reset_index(drop=True, inplace=True)\n",
      "# cat_feature_data.reset_index(drop=True, inplace=True)\n",
      "\n",
      "# get labels\n",
      "label_data = feature_data[['predictor']]\n",
      "\n",
      "# drop target feature\n",
      "feature_data.drop('predictor', axis = 1, inplace = True)"
     ],
     "language": "python",
     "metadata": {},
     "outputs": [],
     "prompt_number": 20
    },
    {
     "cell_type": "code",
     "collapsed": false,
     "input": [
      "# encode / binarize  categorical variables \n",
      "\n",
      "temp_hold_df = pd.DataFrame({'test_col':range(149974)})\n",
      "\n",
      "for i in cat_feature_data.columns:\n",
      "    print i\n",
      "    temp_df = pd.get_dummies(cat_feature_data[str(i)])\n",
      "    temp_hold_df = temp_hold_df.join(temp_df, rsuffix=i)\n",
      "#     feature_data = feature_data.join(temp_df, rsuffix=i)\n",
      "    temp_df = pd.DataFrame()  # clear dataframe"
     ],
     "language": "python",
     "metadata": {},
     "outputs": [
      {
       "output_type": "stream",
       "stream": "stdout",
       "text": [
        "business_location_time_zone\n",
        "business_location_state_name"
       ]
      },
      {
       "output_type": "stream",
       "stream": "stdout",
       "text": [
        "\n",
        "business_has_multiple_locations"
       ]
      },
      {
       "output_type": "stream",
       "stream": "stdout",
       "text": [
        "\n",
        "business_category_sub_category"
       ]
      },
      {
       "output_type": "stream",
       "stream": "stdout",
       "text": [
        "\n",
        "business_category_top_category"
       ]
      },
      {
       "output_type": "stream",
       "stream": "stdout",
       "text": [
        "\n",
        "business_has_ecommerce"
       ]
      },
      {
       "output_type": "stream",
       "stream": "stdout",
       "text": [
        "\n",
        "business_history_has_done_deals"
       ]
      },
      {
       "output_type": "stream",
       "stream": "stdout",
       "text": [
        "\n",
        "business_location_city_name"
       ]
      },
      {
       "output_type": "stream",
       "stream": "stdout",
       "text": [
        "\n"
       ]
      }
     ],
     "prompt_number": 21
    },
    {
     "cell_type": "code",
     "collapsed": false,
     "input": [
      "temp_hold_df.shape"
     ],
     "language": "python",
     "metadata": {},
     "outputs": [
      {
       "metadata": {},
       "output_type": "pyout",
       "prompt_number": 22,
       "text": [
        "(149974, 7398)"
       ]
      }
     ],
     "prompt_number": 22
    },
    {
     "cell_type": "code",
     "collapsed": false,
     "input": [
      "temp_hold_df.to_pickle('pandas_binarize.pkl')"
     ],
     "language": "python",
     "metadata": {},
     "outputs": [],
     "prompt_number": 1
    },
    {
     "cell_type": "heading",
     "level": 3,
     "metadata": {},
     "source": [
      "Comparism (Pandas - binarize vs Sparse - binarize)"
     ]
    },
    {
     "cell_type": "markdown",
     "metadata": {},
     "source": [
      "> We notice the binarized categorical feature via sparse endcoding is about an order of  magnitude smaller than the binarized categorical features via pandas"
     ]
    },
    {
     "cell_type": "markdown",
     "metadata": {},
     "source": [
      "- Code run with data = data[ data.predictor != 'Sent'] and excluding all approaches with 'Sent' state"
     ]
    },
    {
     "cell_type": "code",
     "collapsed": false,
     "input": [
      "!ls -lahGt | grep '.pkl'| head -2"
     ],
     "language": "python",
     "metadata": {},
     "outputs": [
      {
       "output_type": "stream",
       "stream": "stdout",
       "text": [
        "-rw-r--r--   1 ike  staff    25M Dec 18 04:12 sparse_binarize.pkl\r\n",
        "-rw-r--r--   1 ike  staff   245M Dec 18 03:51 pandas_binarize.pkl\r\n"
       ]
      }
     ],
     "prompt_number": 1
    },
    {
     "cell_type": "markdown",
     "metadata": {},
     "source": [
      "- Code run without data = data[ data.predictor != 'Sent'] and including all approaches with 'Sent' state. We can see that things pretty much blow up here. This took a few hours to run for me"
     ]
    },
    {
     "cell_type": "code",
     "collapsed": false,
     "input": [
      "!ls -lahGt | grep '.pkl'| head -2"
     ],
     "language": "python",
     "metadata": {},
     "outputs": [
      {
       "output_type": "stream",
       "stream": "stdout",
       "text": [
        "-rw-r--r--   1 ike  staff   526M Dec 18 04:53 pandas_binarize.pkl\r\n",
        "-rw-r--r--   1 ike  staff    53M Dec 18 04:45 sparse_binarize.pkl\r\n"
       ]
      }
     ],
     "prompt_number": 24
    },
    {
     "cell_type": "code",
     "collapsed": false,
     "input": [],
     "language": "python",
     "metadata": {},
     "outputs": []
    },
    {
     "cell_type": "heading",
     "level": 3,
     "metadata": {},
     "source": [
      "Modifications to binarize function"
     ]
    },
    {
     "cell_type": "raw",
     "metadata": {},
     "source": [
      "Old function"
     ]
    },
    {
     "cell_type": "code",
     "collapsed": false,
     "input": [
      "def binarize(feature_data, cat_feature_data):\n",
      "    for i in cat_feature_data.columns:\n",
      "        temp_df = pd.get_dummies(cat_feature_data[str(i)])\n",
      "        feature_data = feature_data.join(temp_df, rsuffix=i)\n",
      "        temp_df = pd.DataFrame()\n",
      "\n",
      "    # get labels\n",
      "    label_data = feature_data[['predictor']]\n",
      "    # drop target feature\n",
      "    feature_data.drop('predictor', axis = 1, inplace = True)\n",
      "    feature_data.reset_index(drop=True, inplace=True)\n",
      "    label_data.reset_index(drop=True, inplace=True)\n",
      "    return [feature_data, label_data]\n"
     ],
     "language": "python",
     "metadata": {},
     "outputs": [],
     "prompt_number": 2
    },
    {
     "cell_type": "markdown",
     "metadata": {},
     "source": [
      "Changes to Binarize Function"
     ]
    },
    {
     "cell_type": "code",
     "collapsed": false,
     "input": [
      "from sklearn.feature_extraction import DictVectorizer\n",
      "\n",
      "\n",
      "def binarize(feature_data, cat_feature_data):\n",
      "        \n",
      "    sparse_vector = DictVectorizer()\n",
      "    # sparse categorical feature matrix - vectorized operation\n",
      "    sparse_binarize = sparse_vector.fit_transform(cat_feature_data.T.to_dict().values())\n",
      "    # dense categorical feature matrix\n",
      "    dense_binarize = sparse_vector.fit_transform(cat_feature_data.T.to_dict().values()).toarray()\n",
      "    feature_data = feature_data.join(pd.DataFrame(dense_binarize))\n",
      "\n",
      "\n",
      "    # get labels\n",
      "    label_data = feature_data[['predictor']]\n",
      "    # drop target feature\n",
      "    feature_data.drop('predictor', axis = 1, inplace = True)\n",
      "    feature_data.reset_index(drop=True, inplace=True)\n",
      "    label_data.reset_index(drop=True, inplace=True)\n",
      "    return [feature_data, label_data]"
     ],
     "language": "python",
     "metadata": {},
     "outputs": [],
     "prompt_number": 3
    },
    {
     "cell_type": "code",
     "collapsed": false,
     "input": [],
     "language": "python",
     "metadata": {},
     "outputs": []
    }
   ],
   "metadata": {}
  }
 ]
}