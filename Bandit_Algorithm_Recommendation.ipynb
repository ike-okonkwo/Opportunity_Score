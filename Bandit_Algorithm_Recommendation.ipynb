{
 "metadata": {
  "name": ""
 },
 "nbformat": 3,
 "nbformat_minor": 0,
 "worksheets": [
  {
   "cells": [
    {
     "cell_type": "markdown",
     "metadata": {},
     "source": [
      "\n",
      "Exploration - explotation technique\n",
      "\n",
      "- (1) they smoothly decrease the amount of exploring they do over time instead of requiring you to make a sudden jump and \n",
      "- (2) they focus your resources during exploration on the better options instead of wasting time on the inferior options that are over-explored during typical A/B testing\n"
     ]
    },
    {
     "cell_type": "markdown",
     "metadata": {},
     "source": [
      "Epsilion Greedy \n",
      "\n",
      "> The epsilon-Greedy algorithm explores by selecting from all of the arms completely at random. It makes one of these random exploratory decisions with probability epsilon\n",
      "\n",
      "- With probability 1 \u2013 epsilon, the epsilon-Greedy algorithm exploits the best known option.\n",
      "- With probability epsilon / 2, the epsilon-Greedy algorithm explores the best known option.\n",
      "- With probability epsilon / 2, the epsilon-Greedy algorithm explores the worst known option.\n"
     ]
    },
    {
     "cell_type": "markdown",
     "metadata": {},
     "source": [
      "Softmax Annealing\n",
      "\n",
      "> The Softmax algorithm tries to cope with arms differing in estimated value by explicitly incorporating information about the reward rates of the available arms into its method for choosing which arm to select when it explores. The Softmax algorithm explores by randomly selecting from all of the available arms with probabilities that are more-or-less proportional to the estimated value of each of the arms. If the other arms are noticeably worse than the best arm, they\u2019re chosen with very low probability. If the arms all have similar values, they\u2019re each chosen nearly equally often."
     ]
    },
    {
     "cell_type": "code",
     "collapsed": false,
     "input": [],
     "language": "python",
     "metadata": {},
     "outputs": []
    },
    {
     "cell_type": "markdown",
     "metadata": {},
     "source": [
      "UCB1\n",
      "\n",
      "- The algorithm\u2019s default choice is to select the arm that currently has the highest estimated value.\n",
      "- The algorithm sometimes decides to explore and chooses an option that isn\u2019t the one that currently seems best:\n",
      "\n",
      "\n",
      "> UCB doesn\u2019t use randomness at all. Unlike epsilon-Greedy or Softmax, it\u2019s possible to know exactly how UCB will behave in any given situation. This can make it easier to reason about at times.\n",
      "UCB doesn\u2019t have any free parameters that you need to configure before you can deploy it. This is a major improvement if you\u2019re interested in running it in the wild, because it means that you can start to use UCB without having a clear sense of what you expect the world to behave like.\n",
      "Taken together, the use of an explicit measure of confidence, the absence of unnecessary randomness and the absence of configurable parameters makes UCB very compelling. UCB is also very easy to understand, so let\u2019s just present the algorithm and then we can continue to discuss it in more detail.\n",
      "\n",
      "> The answer is surprising and reveals why the curiosity bonus that UCB has can behave in an non-intuitive way: the little dips you see in this graph come from UCB backpedaling and experimenting with inferior arms because it comes to the conclusion that it knows too little about those arms. This backpedaling matters less and less over time, but it\u2019s always present in UCB\u2019s behavior, which means that UCB doesn\u2019t become a strictly greedy algorithm even if you have a huge amount of data.\n"
     ]
    },
    {
     "cell_type": "markdown",
     "metadata": {},
     "source": [
      "In addition to explicitly keeping track of our confidence in the estimated values of each arm, the UCB algorithm is special for two other reasons:\n",
      "UCB doesn\u2019t use randomness at all. Unlike epsilon-Greedy or Softmax, it\u2019s possible to know exactly how UCB will behave in any given situation. This can make it easier to reason about at times.\n",
      "UCB doesn\u2019t have any free parameters that you need to configure before you can deploy it. This is a major improvement if you\u2019re interested in running it in the wild, because it means that you can start to use UCB without having a clear sense of what you expect the world to behave like.\n",
      "Taken together, the use of an explicit measure of confidence, the absence of unnecessary randomness and the absence of configurable parameters makes UCB very compelling. UCB is also very easy to understand, so let\u2019s just present the algorithm and then we can continue to discuss it in more detail."
     ]
    },
    {
     "cell_type": "code",
     "collapsed": false,
     "input": [
      "import random\n",
      "import pandas as pd\n",
      "import math"
     ],
     "language": "python",
     "metadata": {},
     "outputs": [],
     "prompt_number": 1
    },
    {
     "cell_type": "code",
     "collapsed": false,
     "input": [
      "def ind_max(x):\n",
      "    m = max(x)\n",
      "    return x.index(m)\n",
      "\n",
      "class BernoulliArm():\n",
      "    def __init__(self, p):\n",
      "        self.p = p\n",
      "\n",
      "    def draw(self):\n",
      "        if random.random() > self.p:\n",
      "          return 0.0\n",
      "        else:\n",
      "          return 1.0\n",
      "        \n",
      "class UCB1():\n",
      "    def __init__(self, counts, values):\n",
      "        self.counts = counts\n",
      "        self.values = values\n",
      "        return\n",
      "\n",
      "    def initialize(self, n_arms):\n",
      "        self.counts = [0 for col in range(n_arms)]\n",
      "        self.values = [0.0 for col in range(n_arms)]\n",
      "        return\n",
      "\n",
      "    def select_arm(self):\n",
      "        n_arms = len(self.counts)\n",
      "        for arm in range(n_arms):\n",
      "          if self.counts[arm] == 0:\n",
      "            return arm\n",
      "\n",
      "        ucb_values = [0.0 for arm in range(n_arms)]\n",
      "        total_counts = sum(self.counts)\n",
      "        for arm in range(n_arms):\n",
      "          bonus = math.sqrt((2 * math.log(total_counts)) / float(self.counts[arm]))\n",
      "          ucb_values[arm] = self.values[arm] + bonus\n",
      "        return ind_max(ucb_values)\n",
      "\n",
      "    def update(self, chosen_arm, reward):\n",
      "        self.counts[chosen_arm] = self.counts[chosen_arm] + 1\n",
      "        n = self.counts[chosen_arm]\n",
      "    \n",
      "        value = self.values[chosen_arm]\n",
      "        new_value = ((n - 1) / float(n)) * value + (1 / float(n)) * reward\n",
      "        self.values[chosen_arm] = new_value\n",
      "        return"
     ],
     "language": "python",
     "metadata": {
      "slideshow": {
       "slide_type": "notes"
      }
     },
     "outputs": [],
     "prompt_number": 2
    },
    {
     "cell_type": "code",
     "collapsed": false,
     "input": [
      "###  This is a test suite \n",
      "\n",
      "def test_algorithm(algo, arms, num_sims, horizon):\n",
      "  chosen_arms = [0.0 for i in range(num_sims * horizon)]\n",
      "  rewards = [0.0 for i in range(num_sims * horizon)]\n",
      "  cumulative_rewards = [0.0 for i in range(num_sims * horizon)]\n",
      "  sim_nums = [0.0 for i in range(num_sims * horizon)]\n",
      "  times = [0.0 for i in range(num_sims * horizon)]\n",
      "\n",
      "  for sim in range(num_sims):\n",
      "    sim = sim + 1\n",
      "    algo.initialize(len(arms))\n",
      "\n",
      "    for t in range(horizon):\n",
      "      t = t + 1\n",
      "      index = (sim - 1) * horizon + t - 1\n",
      "      sim_nums[index] = sim\n",
      "      times[index] = t\n",
      "\n",
      "      chosen_arm = algo.select_arm()\n",
      "      chosen_arms[index] = chosen_arm\n",
      "\n",
      "      reward = arms[chosen_arms[index]].draw()\n",
      "      rewards[index] = reward\n",
      "\n",
      "      if t == 1:\n",
      "        cumulative_rewards[index] = reward\n",
      "      else:\n",
      "        cumulative_rewards[index] = cumulative_rewards[index - 1] + reward\n",
      "\n",
      "      algo.update(chosen_arm, reward)\n",
      "\n",
      "  return [sim_nums, times, chosen_arms, rewards, cumulative_rewards]"
     ],
     "language": "python",
     "metadata": {},
     "outputs": [],
     "prompt_number": 9
    },
    {
     "cell_type": "markdown",
     "metadata": {},
     "source": [
      "- Recommedation \n",
      "\n",
      "> We probably want to explore Softmax and UCB1. The both work well in different scenarios. They both utilize a healthy exploration - exploitation balance and achieve convergence much faster \n"
     ]
    },
    {
     "cell_type": "code",
     "collapsed": false,
     "input": [
      "#### This generates mock subject line data with expected rewards (open : 1 / not opened : 2)\n",
      "\n",
      "# set random seed\n",
      "random.seed(5)\n",
      "\n",
      "# we are assuming we start with 6 different subject lines. \n",
      "# The goal here here will be to get to the best subject line and then stick\n",
      "# with that subject line for subsequent campaigns\n",
      "\n",
      "random_title = ['subject_line_1','subject_line_2','subject_line_3','subject_line_4',\n",
      "                'subject_line_5','subject_line_6']\n",
      "\n",
      "index = range(len(random_title))\n",
      "\n",
      "# Generate sequence of Campaign subject lines and expected rewards\n",
      "# The reward is 1 if the email is opened and 0 if the email wasn't opened\n",
      "\n",
      "df = pd.DataFrame() \n",
      "\n",
      "sim_count = 1000 # We assume that we send sim_count eamils the first day\n",
      "\n",
      "for i in range(sim_count):\n",
      "    j = random.choice(index)\n",
      "    data = (random_title[j],random.randint(0,1)) # generate subject line and expected reward\n",
      "    datd_df = pd.DataFrame(list(data))\n",
      "    df = pd.concat([df,datd_df.transpose()], ignore_index=True)\n",
      "\n",
      "# Mock generated subject lines. \n",
      "# Each tuple has a subject lines and expected reward \n",
      "# When we put this in production their is going to be a cold start problem\n",
      "# because at the beginning of a campaign we don't have any data to start with\n",
      "# This simulated what would happen at the end of the first day\n",
      "# '''\n",
      "# ('Title4', 1)\n",
      "# ('Title5', 1)\n",
      "# ('Title5', 1)\n",
      "# ('Title1', 0)\n",
      "# ('Title6', 1)\n",
      "# ('Title6', 0)\n",
      "# ('Title3', 0)\n",
      "# ('Title4', 1)\n",
      "# ('Title1', 0)\n",
      "# ('Title2', 1)\n",
      "# ('Title5', 0)\n",
      "# ('Title5', 0)\n",
      "# ('Title4', 0)\n",
      "# ('Title1', 1)\n",
      "# ('Title2', 0)\n",
      "# ('Title6', 1)\n",
      "# ('Title2', 1)\n",
      "# ('Title4', 1)\n",
      "# ('Title2', 1)\n",
      "# ('Title5', 1)\n",
      "# ('Title6', 0)\n",
      "# ('Title3', 0)\n",
      "# '''"
     ],
     "language": "python",
     "metadata": {},
     "outputs": [],
     "prompt_number": 10
    },
    {
     "cell_type": "code",
     "collapsed": false,
     "input": [
      "cols = ['Subject_line', 'Reward']\n",
      "df.columns = cols"
     ],
     "language": "python",
     "metadata": {},
     "outputs": [],
     "prompt_number": 11
    },
    {
     "cell_type": "code",
     "collapsed": false,
     "input": [
      "df_reward_pos = df[df['Reward'] == 1]\n",
      "agg = df_reward_pos.groupby(by=('Subject_line')).sum().sort('Reward', ascending = False)\n",
      "agg['means'] = agg['Reward']/sim_count\n"
     ],
     "language": "python",
     "metadata": {},
     "outputs": [],
     "prompt_number": 12
    },
    {
     "cell_type": "code",
     "collapsed": false,
     "input": [
      "sim_means = []\n",
      "\n",
      "for i in range(len(agg)):\n",
      "    sim_means.append(agg['means'][i])\n",
      "    print agg['means'][i],\n",
      "    \n",
      "print \n",
      "print sim_means\n",
      "print agg.index"
     ],
     "language": "python",
     "metadata": {},
     "outputs": [
      {
       "output_type": "stream",
       "stream": "stdout",
       "text": [
        "0.09 0.084 0.083 0.078 0.077 0.07\n",
        "[0.089999999999999997, 0.084000000000000005, 0.083000000000000004, 0.078, 0.076999999999999999, 0.070000000000000007]\n",
        "Index([u'subject_line_5', u'subject_line_3', u'subject_line_4', u'subject_line_6', u'subject_line_1', u'subject_line_2'], dtype='object')\n"
       ]
      }
     ],
     "prompt_number": 13
    },
    {
     "cell_type": "code",
     "collapsed": false,
     "input": [
      "\n",
      "random.seed(1)\n",
      "# In this case we have 6 arms or 6 choice to choose. \n",
      "# 0.1 means we get a reward from arm 1 10% of the time\n",
      "# 0.4 means we get a reward from arm 2 40% of the time\n",
      "# The test code is basically doing simulations to find the best arm\n",
      "# In our case the best arm would be the best subject line \n",
      "\n",
      "\n",
      "means = [0.1, 0.4, 0.3, 0.8, 0.3, 0.9]\n",
      "# replace means by sim_means\n",
      "n_arms = len(sim_means)\n",
      "random.shuffle(sim_means)\n",
      "arms = map(lambda (mu): BernoulliArm(mu), sim_means)\n",
      "\n",
      "print(\"Best arm is \" + str(ind_max(sim_means)))\n",
      "print(\"Best subject line is\" + agg.index[ind_max(sim_means)] ) \n",
      "\n",
      "algo = UCB1([], [])\n",
      "algo.initialize(n_arms)\n",
      "results = test_algorithm(algo, arms, 1000, 500)\n",
      "\n",
      "f = open(\"ucb1_results.tsv\", \"w\")  # this file will hold the simulated results from ucb1\n",
      "for i in range(len(results[0])):\n",
      "  f.write(\"\\t\".join([str(results[j][i]) for j in range(len(results))]) + \"\\n\")\n",
      "\n",
      "f.close()"
     ],
     "language": "python",
     "metadata": {},
     "outputs": [
      {
       "output_type": "stream",
       "stream": "stdout",
       "text": [
        "Best arm is 2\n",
        "Best subject line issubject_line_4\n"
       ]
      }
     ],
     "prompt_number": 17
    },
    {
     "cell_type": "code",
     "collapsed": false,
     "input": [],
     "language": "python",
     "metadata": {},
     "outputs": []
    }
   ],
   "metadata": {}
  }
 ]
}